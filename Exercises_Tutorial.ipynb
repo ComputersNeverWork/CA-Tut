{
 "cells": [
  {
   "cell_type": "markdown",
   "metadata": {},
   "source": [
    "## Tutorial on automatically computing Centrality\n",
    "\n",
    "This tutorial will teach you about computing centrality. Centrality determines the **importance of an proposition**.\n",
    "The centrality of a **proposition within an argument network** can be computed by **using different similarity measures**. **TextRank** is used to get the n most central propositions.\n",
    "\n",
    "This tutorial covers \n",
    "1. Centrality computed by using the Similarity Measure of *Mihalcea an Tarau (2004)*\n",
    "2. Centrality computed by doc2vec to increase performance.\n",
    "\n",
    "##### Disclaimer: \"This notebook is written  in favor of readability! It is NOT optimized towards efficency!\""
   ]
  },
  {
   "cell_type": "markdown",
   "metadata": {},
   "source": [
    "### 0. Get everything ready\n",
    "-----------------------------------"
   ]
  },
  {
   "cell_type": "code",
   "execution_count": null,
   "metadata": {},
   "outputs": [],
   "source": [
    "# install all libraries if necessary\n",
    "!pip install nltk\n",
    "!pip install networkx\n",
    "!pip install scipy\n",
    "!pip install gensim\n",
    "!pip install scikit-learn"
   ]
  },
  {
   "cell_type": "code",
   "execution_count": null,
   "metadata": {},
   "outputs": [],
   "source": [
    "# import all libraries used in this tutorial\n",
    "import collections\n",
    "import json\n",
    "import math\n",
    "import networkx as nx\n",
    "import nltk\n",
    "import numpy as np\n",
    "import operator\n",
    "import os\n",
    "import pandas as pd\n",
    "import pickle\n",
    "import random\n",
    "import string \n",
    "from gensim import utils\n",
    "from gensim.models import KeyedVectors\n",
    "from nltk.stem import PorterStemmer\n",
    "from scipy import stats\n",
    "from scipy import spatial\n",
    "from sklearn.metrics.pairwise import cosine_similarity\n",
    "from sklearn.metrics import accuracy_score"
   ]
  },
  {
   "cell_type": "code",
   "execution_count": null,
   "metadata": {},
   "outputs": [],
   "source": [
    "# install nltk components if necessary\n",
    "import nltk\n",
    "nltk.download('punkt')\n",
    "nltk.download('stopwords')"
   ]
  },
  {
   "cell_type": "markdown",
   "metadata": {},
   "source": [
    "Please download the pre-traiend word2vec vectors from https://drive.google.com/uc?id=0B7XkCwpI5KDYNlNUTTlSS21pQmM&export=download and save them in __./data/GoogleNews-vectors-negative300.bin__"
   ]
  },
  {
   "cell_type": "code",
   "execution_count": null,
   "metadata": {},
   "outputs": [],
   "source": [
    "# set seeding to ensure everybody gets the correct results\n",
    "random.seed(42)"
   ]
  },
  {
   "cell_type": "markdown",
   "metadata": {},
   "source": [
    "### 1. Centrality computed by using the Similarity Measure of *Mihalcea an Tarau (2004)*\n",
    "-----------------------------------"
   ]
  },
  {
   "cell_type": "markdown",
   "metadata": {},
   "source": [
    "#### Read the data"
   ]
  },
  {
   "cell_type": "markdown",
   "metadata": {},
   "source": [
    "The data is structured in the __Argument Interchange Format(AIF)__ format that you can see below. \n",
    "\n",
    "For our purpose only nodes of type \"I\" are important, as they contain propositional information for arguments such as premise or conclusion."
   ]
  },
  {
   "cell_type": "markdown",
   "metadata": {},
   "source": [
    "![alt text](aif.png)\n",
    "\n",
    "\n",
    "\n",
    "Taken from: LAWRENCE, John; REED, Chris. Using complex argumentative interactions to reconstruct the argumentative structure of large-scale debates. In: Proceedings of the 4th Workshop on Argument Mining. 2017. S. 108-117."
   ]
  },
  {
   "cell_type": "code",
   "execution_count": null,
   "metadata": {},
   "outputs": [],
   "source": [
    "# read in the nodesets\n",
    "# choose the I-nodes for computation and save the corresponding text\n",
    "directory = os.path.join(os.getcwd(),'US2016R1reddit')\n",
    "I_nodes = {}\n",
    "for file in os.listdir(directory):\n",
    "    filename = os.fsdecode(file)\n",
    "    if filename.endswith(\".json\"):\n",
    "        with open(os.path.join(directory,filename), 'r') as json_file:\n",
    "            json_data = json.load(json_file)\n",
    "            for i in range(len(json_data['nodes'])):\n",
    "                if json_data['nodes'][i]['type'] == \"I\":\n",
    "                    nodeID = json_data['nodes'][i]['nodeID']  \n",
    "                    I_nodes[nodeID] = json_data['nodes'][i]['text']\n",
    "\n",
    "# create a pandas dataframe for the data\n",
    "df = pd.DataFrame.from_dict(I_nodes, orient ='index', columns = ['text'])"
   ]
  },
  {
   "cell_type": "code",
   "execution_count": null,
   "metadata": {},
   "outputs": [],
   "source": [
    "# lets have a look at the data\n",
    "df.head(20)"
   ]
  },
  {
   "cell_type": "markdown",
   "metadata": {},
   "source": [
    "#### Preprocessing stage\n"
   ]
  },
  {
   "cell_type": "markdown",
   "metadata": {},
   "source": [
    "In this step we want to __tokenize__ all nodes, __remove all punctuation__ and perform __stemming__ for each token.\n",
    "\n",
    "Your tasks are:\n",
    "1. Remove the punctuation from all texts\n",
    "2. Tokenize the texts\n",
    "3. Perform stemming\n",
    "\n",
    "##### Example: \n",
    "they don't do terrorist attacks like they used to --> ['they', 'do', \"n't\", 'do', 'terrorist', 'attacks', 'like', 'they', 'used','to']"
   ]
  },
  {
   "cell_type": "code",
   "execution_count": null,
   "metadata": {},
   "outputs": [],
   "source": [
    "tokens_all = []\n",
    "porter = PorterStemmer()\n",
    "\n",
    "# Tokenization via NLTK implementation and removing punctations\n",
    "for row in df.iterrows():\n",
    "    text=row[1].text\n",
    "    \n",
    "    ###To do: Remove the punctuation from all texts####\n",
    "\n",
    "    #####################################\n",
    "    \n",
    "    ###To do: Tokenize the texts####\n",
    "\n",
    "    #####################################\n",
    "    \n",
    "    ###To do: Perform stemming####\n",
    "\n",
    "    #####################################\n",
    "        \n",
    "    tokens_all.append(tokens)\n",
    "\n",
    "# save to dataframe\n",
    "df['text_preprocessed'] = tokens_all"
   ]
  },
  {
   "cell_type": "code",
   "execution_count": null,
   "metadata": {},
   "outputs": [],
   "source": [
    "# lets have a look at the data\n",
    "df.head(20)"
   ]
  },
  {
   "cell_type": "code",
   "execution_count": null,
   "metadata": {},
   "outputs": [],
   "source": [
    "# let us assure everybody got the same results\n",
    "#assert df['text_preprocessed'][0]  == ['they', 'do', \"n't\", 'do', 'terrorist', 'attack', 'like', 'they', 'use', 'to']\n",
    "#assert df['text_preprocessed'][10] == ['carson', 'want', 'a', 'flat', 'tax']\n",
    "#assert df['text_preprocessed'][50] == ['I', 'have', 'no', 'word']"
   ]
  },
  {
   "cell_type": "markdown",
   "metadata": {},
   "source": [
    "#### Calculation of TextRank\n",
    "##### What is TextRank and how does it work? \n",
    "TextRank is a graph-based raking model for natural language text processing.\n",
    "Graph-based ranking algorithms quantify the importance of vertices within a graph, based on global information extracted from the entire graph. For our application this basically means the corpus (the entirety of texts) is represented by a single graph. In this graph we are raking parts of this graph (the single texts) by their importance in the entire graph.\n",
    "To achieve this, for main steps have to be taken:\n",
    "> 1. Identify text units that best define the task at hand, and add them as vertices in the graph.\n",
    "> 2. Identify relations that connect such text units, and use these relations to draw edges between vertices in the graph. Edges can be directed or undirected, weighted or unweighted.\n",
    "> 3. Iterate the graph-based ranking algorithm until convergence.\n",
    "> 4. Sort vertices based on their final score. Use the values attached to each vertex for ranking/selection decisions.\n",
    "> \n",
    "> *Source: Mihalcea, R., & Tarau, P. (2004). Textrank: Bringing order into text. In Proceedings of the 2004 conference on empirical methods in natural language processing.*\n",
    "\n",
    "_Lucky for us, there is already an implementation out there._"
   ]
  },
  {
   "attachments": {
    "image.png": {
     "image/png": "[encoded data removed]"
    }
   },
   "cell_type": "markdown",
   "metadata": {},
   "source": [
    "__Computation done by similarity measure of Michalcea and Tarau (2004)__\n",
    "![image.png](attachment:image.png)"
   ]
  },
  {
   "cell_type": "markdown",
   "metadata": {},
   "source": [
    "##### Example:\n",
    "\n",
    "Text1:['carson', 'want', 'a', 'flat', 'tax']\n",
    "\n",
    "Text2:['carson', 'wants', 'two', 'flat', 'taxes']\n",
    "\n",
    "Similarity(Text1, Text2) = 2 / log(5)+log(5) = 0.6213"
   ]
  },
  {
   "cell_type": "code",
   "execution_count": null,
   "metadata": {},
   "outputs": [],
   "source": [
    "# Compute similarity measure by Michalcea and Tarau (2004)\n",
    "\n",
    "# Compute similarity matrix\n",
    "sim_dict = {}\n",
    "##### To do : implement the similarity measure #########\n",
    "\n",
    "#######################################################    \n",
    "\n",
    "# Print similarity matrix\n",
    "sim = pd.DataFrame(sim_dict)"
   ]
  },
  {
   "cell_type": "code",
   "execution_count": null,
   "metadata": {},
   "outputs": [],
   "source": [
    "# lets have a look at the similarity matrix\n",
    "sim.head(20)"
   ]
  },
  {
   "cell_type": "code",
   "execution_count": null,
   "metadata": {},
   "outputs": [],
   "source": [
    "# let us assure everybody got the same results\n",
    "with open('similarity_assert.pkl', 'rb') as f: assert sim['173836'].tolist() == pickle.load(f).tolist()"
   ]
  },
  {
   "cell_type": "markdown",
   "metadata": {},
   "source": [
    "#### Apply TextRank algo"
   ]
  },
  {
   "cell_type": "code",
   "execution_count": null,
   "metadata": {},
   "outputs": [],
   "source": [
    "# Transform the dataframe into a n-dimensional Numpy-array\n",
    "sim_matrix = sim.values\n",
    "\n",
    "# TextRank\n",
    "nx_graph = nx.from_numpy_array(sim_matrix)\n",
    "scores = nx.pagerank(nx_graph)\n",
    "\n",
    "# Sort TextRank Scores\n",
    "sorted_scores_Common_words = sorted(scores.items(), key=operator.itemgetter(1), reverse=True)"
   ]
  },
  {
   "cell_type": "code",
   "execution_count": null,
   "metadata": {},
   "outputs": [],
   "source": [
    "#get the best 5 central texts\n",
    "for i in range(5):\n",
    "    node_ID = sorted_scores_Common_words[i][0]\n",
    "    id_ = sim.index[node_ID]\n",
    "    print(df.text[df.index[df.index == id_][0]])\n",
    "    print('----------------------------------------')"
   ]
  },
  {
   "cell_type": "markdown",
   "metadata": {},
   "source": [
    "-----------------------------------"
   ]
  },
  {
   "cell_type": "markdown",
   "metadata": {},
   "source": [
    "## 2. Centrality computed by word2vec for increased performance.\n",
    "-----------------------------------\n"
   ]
  },
  {
   "cell_type": "markdown",
   "metadata": {},
   "source": [
    "#### Creating the Word2Vec model\n",
    "\n",
    "##### What is doc2vec and how does it work?\n",
    "Word2vec represents the meaning of words and their relations in vector space, making every word become a feature vector. What this allows us to do is to derive related words from a specific word. A classic example you probably already know is the \"king\"-example. It basically tells that king is to queen what men is to women.\n",
    "\n",
    "![alt text](kingqueen.png)"
   ]
  },
  {
   "cell_type": "code",
   "execution_count": null,
   "metadata": {},
   "outputs": [],
   "source": [
    "# Load vectors directly from the file\n",
    "model = KeyedVectors.load_word2vec_format('./data/GoogleNews-vectors-negative300.bin', binary=True)"
   ]
  },
  {
   "cell_type": "markdown",
   "metadata": {},
   "source": [
    "In this step we want to compare all texts using the cosine similarity measure. Since word2vec only gives us vectors for each word we have to create the document vectors on our own.\n",
    "\n",
    "__Your tasks are:__\n",
    "1. To compute the similarity between each pair of texts, we compute the centroids of each text. \n",
    "2. The centroid of a text is the average of all its token vectors.\n"
   ]
  },
  {
   "cell_type": "code",
   "execution_count": null,
   "metadata": {},
   "outputs": [],
   "source": [
    "centroids = []\n",
    "##### To do : compute the centroids for each text #########\n",
    "\n",
    "#######################################################\n",
    "df[\"w2v_centorids\"] = centroids"
   ]
  },
  {
   "cell_type": "code",
   "execution_count": null,
   "metadata": {},
   "outputs": [],
   "source": [
    "# lets have a look at the centroids\n",
    "df.head()"
   ]
  },
  {
   "cell_type": "markdown",
   "metadata": {},
   "source": [
    "Now that we have our document vecors, we can compute the cosine similarity of each document pair.\n",
    "\n",
    "__Your tasks are:__\n",
    "1. The centroids are then compared using cosine similarity."
   ]
  },
  {
   "cell_type": "code",
   "execution_count": null,
   "metadata": {},
   "outputs": [],
   "source": [
    "# Compute consine similarity\n",
    "\n",
    "# Compute similarity matrix\n",
    "sim_dict = {}\n",
    "##### To do : implement the similarity measure #########\n",
    "\n",
    "#######################################################    \n",
    "\n",
    "# Print similarity matrix\n",
    "sim = pd.DataFrame(sim_dict)"
   ]
  },
  {
   "cell_type": "code",
   "execution_count": null,
   "metadata": {},
   "outputs": [],
   "source": [
    "# lets have a look at the similarity matrix\n",
    "sim.head(20)"
   ]
  },
  {
   "cell_type": "code",
   "execution_count": null,
   "metadata": {},
   "outputs": [],
   "source": [
    "# replace nan values with 0\n",
    "sim = sim.fillna(0)"
   ]
  },
  {
   "cell_type": "code",
   "execution_count": null,
   "metadata": {},
   "outputs": [],
   "source": [
    "# let us assure everybody got the same results\n",
    "with open('w2v_assert.pkl', 'rb') as g: assert sim['173836'].tolist() == pickle.load(g).tolist()"
   ]
  },
  {
   "cell_type": "markdown",
   "metadata": {},
   "source": [
    "#### Apply TextRank algo"
   ]
  },
  {
   "cell_type": "code",
   "execution_count": null,
   "metadata": {},
   "outputs": [],
   "source": [
    "# Transform the dataframe into a n-dimensional Numpy-array\n",
    "sim_matrix = sim.values\n",
    "\n",
    "# TextRank\n",
    "nx_graph = nx.from_numpy_array(sim_matrix)\n",
    "scores = nx.pagerank(nx_graph)\n",
    "\n",
    "# Sort TextRank Scores\n",
    "sorted_scores_word2vec = sorted(scores.items(), key=operator.itemgetter(1), reverse=True)"
   ]
  },
  {
   "cell_type": "code",
   "execution_count": null,
   "metadata": {},
   "outputs": [],
   "source": [
    "#get the best 5 central texts\n",
    "for i in range(5):\n",
    "    node_ID = sorted_scores_word2vec[i][0]\n",
    "    id_ = sim.index[node_ID]\n",
    "    print(df.text[df.index[df.index == id_][0]])\n",
    "    print('----------------------------------------')"
   ]
  },
  {
   "cell_type": "markdown",
   "metadata": {},
   "source": [
    "-----------------------------------"
   ]
  },
  {
   "cell_type": "markdown",
   "metadata": {},
   "source": [
    "## 3. Evaluating the computed centrality"
   ]
  },
  {
   "cell_type": "markdown",
   "metadata": {},
   "source": [
    "In this part we will:\n",
    "1. Computing the centrality based on the graph structure <br>\n",
    "2. Computing Kendalls rank correlation <br>"
   ]
  },
  {
   "cell_type": "markdown",
   "metadata": {},
   "source": [
    "To obtain the ground truth results based on the centrality measure represented in the lecture, we need to recreate the original graph from the data. However for our purpose only reasoning-nodes(RA) and conflict-nodes(CA) are of relevance.\n",
    "\n",
    "__Hint:__ You can think of RA-nodes as support and CA-nodes as attacks towards an argument."
   ]
  },
  {
   "cell_type": "code",
   "execution_count": null,
   "metadata": {},
   "outputs": [],
   "source": [
    "# read in the nodesets\n",
    "#choose nodes which are supporting or conflict nodes and safe the node where the edge comes from\n",
    "directory = os.path.join(os.getcwd(),'US2016R1reddit')\n",
    "interesting_nodes = {}\n",
    "nodeID = 0\n",
    "for file in os.listdir(directory):\n",
    "    filename = os.fsdecode(file)\n",
    "    if filename.endswith(\".json\"):\n",
    "        with open(os.path.join(directory,filename), 'r') as json_file:\n",
    "            json_data = json.load(json_file)\n",
    "            for i in range(len(json_data['nodes'])):\n",
    "                edges = []\n",
    "                if json_data['nodes'][i]['type'] == \"CA\" or json_data['nodes'][i]['type'] == \"RA\" :\n",
    "                    nodeID = json_data['nodes'][i]['nodeID'] \n",
    "                for j in range (len(json_data['edges'])):\n",
    "                        if json_data['edges'][j]['toID'] == nodeID:\n",
    "                            edges.append(json_data['edges'][j]['fromID'])\n",
    "                            interesting_nodes [nodeID] = edges\n",
    "    else:\n",
    "        continue"
   ]
  },
  {
   "cell_type": "code",
   "execution_count": null,
   "metadata": {},
   "outputs": [],
   "source": [
    "# lets have a look at the graph, values are outgoing edges\n",
    "print(interesting_nodes)"
   ]
  },
  {
   "cell_type": "markdown",
   "metadata": {},
   "source": [
    "##### Now that we have the data prepared we can compute the centrality measurement for all nodes."
   ]
  },
  {
   "cell_type": "code",
   "execution_count": null,
   "metadata": {},
   "outputs": [],
   "source": [
    "#building up a graph from what we found out ready to do computation of centrality \n",
    "list_of_nodes = []\n",
    "list_of_edges = []\n",
    "for key, value in interesting_nodes.items():\n",
    "    list_of_nodes.append(key)\n",
    "    list_of_nodes.extend(value)\n",
    "    for i in range(len(value)):\n",
    "        edge = (value[i],key)\n",
    "        list_of_edges.append(edge)\n",
    "\n",
    "#actually build up the sub graph by using Networkx libary   \n",
    "sub_graph=nx.Graph()\n",
    "sub_graph.add_nodes_from(list_of_nodes)\n",
    "sub_graph.add_edges_from(list_of_edges)\n",
    "\n",
    "# compute centrality\n",
    "centrality = nx.eigenvector_centrality(sub_graph, max_iter=500, tol=1e-06, nstart=None, weight='weight')\n",
    "\n",
    "# delete support and attack nodes\n",
    "for key, value in interesting_nodes.items():\n",
    "    del centrality[key]\n",
    "\n",
    "sorted_scores_onGraph = sorted(centrality.items(), key=operator.itemgetter(1), reverse = True)"
   ]
  },
  {
   "cell_type": "markdown",
   "metadata": {},
   "source": [
    "##### The next step is to map the ranking back to the original nodes in the dataframe."
   ]
  },
  {
   "cell_type": "code",
   "execution_count": null,
   "metadata": {},
   "outputs": [],
   "source": [
    "# map the ranking back to the original instances in the df\n",
    "ranking = [i[0] for i in sorted_scores_onGraph]\n",
    "centrality_rankings = []\n",
    "for row in df.iterrows():\n",
    "    try:\n",
    "        centrality_rankings.append(ranking.index(row[0]))\n",
    "    except:\n",
    "        centrality_rankings.append(1173)\n",
    "        \n",
    "df['centrality_ranking'] = centrality_rankings"
   ]
  },
  {
   "cell_type": "code",
   "execution_count": null,
   "metadata": {},
   "outputs": [],
   "source": [
    "# map the ranking back to the original instances in the df\n",
    "list_w2v = []\n",
    "for i in range(len(sorted_scores_word2vec)):\n",
    "    list_w2v.append(sim.index[sorted_scores_word2vec[i][0]])\n",
    "\n",
    "w2v_rankings = []\n",
    "for row in df.iterrows():\n",
    "    try:\n",
    "        w2v_rankings.append(list_w2v.index(row[0]))\n",
    "    except:\n",
    "        w2v_rankings.append(1173)\n",
    "        \n",
    "df['word2vec_ranking'] = w2v_rankings"
   ]
  },
  {
   "cell_type": "code",
   "execution_count": null,
   "metadata": {},
   "outputs": [],
   "source": [
    "# map the ranking back to the original instances in the df\n",
    "list_cw = []\n",
    "for i in range(len(sorted_scores_Common_words)):\n",
    "    list_cw.append(sim.index[sorted_scores_Common_words[i][0]])\n",
    "    \n",
    "common_words_rankings = []\n",
    "for row in df.iterrows():\n",
    "    try:\n",
    "        common_words_rankings.append(list_cw.index(row[0]))\n",
    "    except:\n",
    "        common_words_rankings.append(1173)\n",
    "        \n",
    "df['common_words_ranking'] = common_words_rankings"
   ]
  },
  {
   "cell_type": "code",
   "execution_count": null,
   "metadata": {},
   "outputs": [],
   "source": [
    "# lets have a look at our final dataframe\n",
    "df.head(20)"
   ]
  },
  {
   "cell_type": "markdown",
   "metadata": {},
   "source": [
    "##### After we've computed the ground truth centrality we can now compare our text based algorithms. \n",
    "To do this we use Kendalls rank correlation."
   ]
  },
  {
   "cell_type": "code",
   "execution_count": null,
   "metadata": {},
   "outputs": [],
   "source": [
    "#compute kendalls tau for rank correlation onGraph and ranking_Common_word\n",
    "kendalls_tau, p_value = stats.kendalltau(df['centrality_ranking'], df['common_words_ranking'])\n",
    "print(kendalls_tau)"
   ]
  },
  {
   "cell_type": "code",
   "execution_count": null,
   "metadata": {},
   "outputs": [],
   "source": [
    "#compute kendalls tau for rank correlation onGraph and ranking_Common_word\n",
    "kendalls_tau, p_value = stats.kendalltau(df['centrality_ranking'], df['word2vec_ranking'])\n",
    "print(kendalls_tau)"
   ]
  },
  {
   "cell_type": "code",
   "execution_count": null,
   "metadata": {},
   "outputs": [],
   "source": []
  }
 ],
 "metadata": {
  "kernelspec": {
   "display_name": "Python 3",
   "language": "python",
   "name": "python3"
  },
  "language_info": {
   "codemirror_mode": {
    "name": "ipython",
    "version": 3
   },
   "file_extension": ".py",
   "mimetype": "text/x-python",
   "name": "python",
   "nbconvert_exporter": "python",
   "pygments_lexer": "ipython3",
   "version": "3.7.0"
  },
  "varInspector": {
   "cols": {
    "lenName": 16,
    "lenType": 16,
    "lenVar": 40
   },
   "kernels_config": {
    "python": {
     "delete_cmd_postfix": "",
     "delete_cmd_prefix": "del ",
     "library": "var_list.py",
     "varRefreshCmd": "print(var_dic_list())"
    },
    "r": {
     "delete_cmd_postfix": ") ",
     "delete_cmd_prefix": "rm(",
     "library": "var_list.r",
     "varRefreshCmd": "cat(var_dic_list()) "
    }
   },
   "types_to_exclude": [
    "module",
    "function",
    "builtin_function_or_method",
    "instance",
    "_Feature"
   ],
   "window_display": false
  }
 },
 "nbformat": 4,
 "nbformat_minor": 2
}
